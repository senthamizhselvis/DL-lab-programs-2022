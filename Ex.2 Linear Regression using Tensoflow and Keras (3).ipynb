{
 "cells": [
  {
   "cell_type": "code",
   "execution_count": 1,
   "id": "8dbaf2f4",
   "metadata": {},
   "outputs": [
    {
     "data": {
      "text/html": [
       "<div>\n",
       "<style scoped>\n",
       "    .dataframe tbody tr th:only-of-type {\n",
       "        vertical-align: middle;\n",
       "    }\n",
       "\n",
       "    .dataframe tbody tr th {\n",
       "        vertical-align: top;\n",
       "    }\n",
       "\n",
       "    .dataframe thead th {\n",
       "        text-align: right;\n",
       "    }\n",
       "</style>\n",
       "<table border=\"1\" class=\"dataframe\">\n",
       "  <thead>\n",
       "    <tr style=\"text-align: right;\">\n",
       "      <th></th>\n",
       "      <th>CRIM</th>\n",
       "      <th>ZN</th>\n",
       "      <th>INDUS</th>\n",
       "      <th>CHAS</th>\n",
       "      <th>NOX</th>\n",
       "      <th>RM</th>\n",
       "      <th>AGE</th>\n",
       "      <th>DIS</th>\n",
       "      <th>RAD</th>\n",
       "      <th>TAX</th>\n",
       "      <th>PTRATION</th>\n",
       "      <th>B</th>\n",
       "      <th>LSTAT</th>\n",
       "      <th>MEDV</th>\n",
       "    </tr>\n",
       "  </thead>\n",
       "  <tbody>\n",
       "    <tr>\n",
       "      <th>496</th>\n",
       "      <td>0.28960</td>\n",
       "      <td>0.0</td>\n",
       "      <td>9.69</td>\n",
       "      <td>0</td>\n",
       "      <td>0.585</td>\n",
       "      <td>5.390</td>\n",
       "      <td>72.9</td>\n",
       "      <td>2.7986</td>\n",
       "      <td>6</td>\n",
       "      <td>391.0</td>\n",
       "      <td>19.2</td>\n",
       "      <td>396.90</td>\n",
       "      <td>21.14</td>\n",
       "      <td>19.7</td>\n",
       "    </tr>\n",
       "    <tr>\n",
       "      <th>497</th>\n",
       "      <td>0.26838</td>\n",
       "      <td>0.0</td>\n",
       "      <td>9.69</td>\n",
       "      <td>0</td>\n",
       "      <td>0.585</td>\n",
       "      <td>5.794</td>\n",
       "      <td>70.6</td>\n",
       "      <td>2.8927</td>\n",
       "      <td>6</td>\n",
       "      <td>391.0</td>\n",
       "      <td>19.2</td>\n",
       "      <td>396.90</td>\n",
       "      <td>14.10</td>\n",
       "      <td>18.3</td>\n",
       "    </tr>\n",
       "    <tr>\n",
       "      <th>498</th>\n",
       "      <td>0.23912</td>\n",
       "      <td>0.0</td>\n",
       "      <td>9.69</td>\n",
       "      <td>0</td>\n",
       "      <td>0.585</td>\n",
       "      <td>6.019</td>\n",
       "      <td>65.3</td>\n",
       "      <td>2.4091</td>\n",
       "      <td>6</td>\n",
       "      <td>391.0</td>\n",
       "      <td>19.2</td>\n",
       "      <td>396.90</td>\n",
       "      <td>12.92</td>\n",
       "      <td>21.2</td>\n",
       "    </tr>\n",
       "    <tr>\n",
       "      <th>499</th>\n",
       "      <td>0.17783</td>\n",
       "      <td>0.0</td>\n",
       "      <td>9.69</td>\n",
       "      <td>0</td>\n",
       "      <td>0.585</td>\n",
       "      <td>5.569</td>\n",
       "      <td>73.5</td>\n",
       "      <td>2.3999</td>\n",
       "      <td>6</td>\n",
       "      <td>391.0</td>\n",
       "      <td>19.2</td>\n",
       "      <td>395.77</td>\n",
       "      <td>15.10</td>\n",
       "      <td>17.5</td>\n",
       "    </tr>\n",
       "    <tr>\n",
       "      <th>500</th>\n",
       "      <td>0.22438</td>\n",
       "      <td>0.0</td>\n",
       "      <td>9.69</td>\n",
       "      <td>0</td>\n",
       "      <td>0.585</td>\n",
       "      <td>6.027</td>\n",
       "      <td>79.7</td>\n",
       "      <td>2.4982</td>\n",
       "      <td>6</td>\n",
       "      <td>391.0</td>\n",
       "      <td>19.2</td>\n",
       "      <td>396.90</td>\n",
       "      <td>14.33</td>\n",
       "      <td>16.8</td>\n",
       "    </tr>\n",
       "    <tr>\n",
       "      <th>501</th>\n",
       "      <td>0.06263</td>\n",
       "      <td>0.0</td>\n",
       "      <td>11.93</td>\n",
       "      <td>0</td>\n",
       "      <td>0.573</td>\n",
       "      <td>6.593</td>\n",
       "      <td>69.1</td>\n",
       "      <td>2.4786</td>\n",
       "      <td>1</td>\n",
       "      <td>273.0</td>\n",
       "      <td>21.0</td>\n",
       "      <td>391.99</td>\n",
       "      <td>9.67</td>\n",
       "      <td>22.4</td>\n",
       "    </tr>\n",
       "    <tr>\n",
       "      <th>502</th>\n",
       "      <td>0.04527</td>\n",
       "      <td>0.0</td>\n",
       "      <td>11.93</td>\n",
       "      <td>0</td>\n",
       "      <td>0.573</td>\n",
       "      <td>6.120</td>\n",
       "      <td>76.7</td>\n",
       "      <td>2.2875</td>\n",
       "      <td>1</td>\n",
       "      <td>273.0</td>\n",
       "      <td>21.0</td>\n",
       "      <td>396.90</td>\n",
       "      <td>9.08</td>\n",
       "      <td>20.6</td>\n",
       "    </tr>\n",
       "    <tr>\n",
       "      <th>503</th>\n",
       "      <td>0.06076</td>\n",
       "      <td>0.0</td>\n",
       "      <td>11.93</td>\n",
       "      <td>0</td>\n",
       "      <td>0.573</td>\n",
       "      <td>6.976</td>\n",
       "      <td>91.0</td>\n",
       "      <td>2.1675</td>\n",
       "      <td>1</td>\n",
       "      <td>273.0</td>\n",
       "      <td>21.0</td>\n",
       "      <td>396.90</td>\n",
       "      <td>5.64</td>\n",
       "      <td>23.9</td>\n",
       "    </tr>\n",
       "    <tr>\n",
       "      <th>504</th>\n",
       "      <td>0.10959</td>\n",
       "      <td>0.0</td>\n",
       "      <td>11.93</td>\n",
       "      <td>0</td>\n",
       "      <td>0.573</td>\n",
       "      <td>6.794</td>\n",
       "      <td>89.3</td>\n",
       "      <td>2.3889</td>\n",
       "      <td>1</td>\n",
       "      <td>273.0</td>\n",
       "      <td>21.0</td>\n",
       "      <td>393.45</td>\n",
       "      <td>6.48</td>\n",
       "      <td>22.0</td>\n",
       "    </tr>\n",
       "    <tr>\n",
       "      <th>505</th>\n",
       "      <td>0.04741</td>\n",
       "      <td>0.0</td>\n",
       "      <td>11.93</td>\n",
       "      <td>0</td>\n",
       "      <td>0.573</td>\n",
       "      <td>6.030</td>\n",
       "      <td>80.8</td>\n",
       "      <td>2.5050</td>\n",
       "      <td>1</td>\n",
       "      <td>273.0</td>\n",
       "      <td>21.0</td>\n",
       "      <td>396.90</td>\n",
       "      <td>7.88</td>\n",
       "      <td>11.9</td>\n",
       "    </tr>\n",
       "  </tbody>\n",
       "</table>\n",
       "</div>"
      ],
      "text/plain": [
       "        CRIM   ZN  INDUS  CHAS    NOX     RM   AGE     DIS  RAD    TAX  \\\n",
       "496  0.28960  0.0   9.69     0  0.585  5.390  72.9  2.7986    6  391.0   \n",
       "497  0.26838  0.0   9.69     0  0.585  5.794  70.6  2.8927    6  391.0   \n",
       "498  0.23912  0.0   9.69     0  0.585  6.019  65.3  2.4091    6  391.0   \n",
       "499  0.17783  0.0   9.69     0  0.585  5.569  73.5  2.3999    6  391.0   \n",
       "500  0.22438  0.0   9.69     0  0.585  6.027  79.7  2.4982    6  391.0   \n",
       "501  0.06263  0.0  11.93     0  0.573  6.593  69.1  2.4786    1  273.0   \n",
       "502  0.04527  0.0  11.93     0  0.573  6.120  76.7  2.2875    1  273.0   \n",
       "503  0.06076  0.0  11.93     0  0.573  6.976  91.0  2.1675    1  273.0   \n",
       "504  0.10959  0.0  11.93     0  0.573  6.794  89.3  2.3889    1  273.0   \n",
       "505  0.04741  0.0  11.93     0  0.573  6.030  80.8  2.5050    1  273.0   \n",
       "\n",
       "     PTRATION       B  LSTAT  MEDV  \n",
       "496      19.2  396.90  21.14  19.7  \n",
       "497      19.2  396.90  14.10  18.3  \n",
       "498      19.2  396.90  12.92  21.2  \n",
       "499      19.2  395.77  15.10  17.5  \n",
       "500      19.2  396.90  14.33  16.8  \n",
       "501      21.0  391.99   9.67  22.4  \n",
       "502      21.0  396.90   9.08  20.6  \n",
       "503      21.0  396.90   5.64  23.9  \n",
       "504      21.0  393.45   6.48  22.0  \n",
       "505      21.0  396.90   7.88  11.9  "
      ]
     },
     "execution_count": 1,
     "metadata": {},
     "output_type": "execute_result"
    }
   ],
   "source": [
    "import tensorflow as tf\n",
    "import keras\n",
    "import pandas as pd\n",
    "import numpy as np\n",
    "import sklearn\n",
    "dataset_path = tf.keras.utils.get_file(\"housing.data\", \"https://archive.ics.uci.edu/ml/machine-learning-databases/housing/housing.data\")\n",
    "column_names = ['CRIM','ZN','INDUS','CHAS','NOX',\n",
    "                'RM', 'AGE', 'DIS','RAD','TAX','PTRATION', 'B', 'LSTAT', 'MEDV']\n",
    "raw_dataset = pd.read_csv(dataset_path, names=column_names,\n",
    "                      na_values = \"?\", comment='\\t',\n",
    "                      sep=\" \", skipinitialspace=True)\n",
    "# Create a dataset instant\n",
    "dataset = raw_dataset.copy()\n",
    "# This function returns last n rows from the object \n",
    "# based on position.\n",
    "dataset.tail(n=10)"
   ]
  },
  {
   "cell_type": "code",
   "execution_count": 2,
   "id": "27c6325e",
   "metadata": {},
   "outputs": [],
   "source": [
    "# Split data into train/test\n",
    "# p = training data portion\n",
    "\n",
    "p=0.8\n",
    "trainDataset = dataset.sample(frac=p,random_state=0)\n",
    "testDataset = dataset.drop(trainDataset.index)"
   ]
  },
  {
   "cell_type": "code",
   "execution_count": 3,
   "id": "c54cfd52",
   "metadata": {},
   "outputs": [
    {
     "data": {
      "image/png": "[encoded data removed]",
      "text/plain": [
       "<Figure size 432x288 with 1 Axes>"
      ]
     },
     "metadata": {
      "needs_background": "light"
     },
     "output_type": "display_data"
    }
   ],
   "source": [
    "# Visual representation of training data\n",
    "import matplotlib.pyplot as plt\n",
    "fig, ax = plt.subplots()\n",
    "# With .pop() command, the associated columns are extracted.\n",
    "x = trainDataset['RM']\n",
    "y = trainDataset['MEDV']\n",
    "ax.scatter(x, y, edgecolors=(0, 0, 0))\n",
    "ax.set_xlabel('RM')\n",
    "ax.set_ylabel('MEDV')\n",
    "plt.show()"
   ]
  },
  {
   "cell_type": "code",
   "execution_count": 20,
   "id": "6fafd593",
   "metadata": {},
   "outputs": [],
   "source": [
    "# Pop command return item and drop it from frame.\n",
    "# After using trainDataset.pop('RM'), the 'RM' column \n",
    "# does not exist in the trainDataset frame anymore!\n",
    "trainInput = trainDataset['RM']\n",
    "trainTarget = trainDataset['MEDV']\n",
    "testInput = testDataset['RM']\n",
    "testTarget = testDataset['MEDV']"
   ]
  },
  {
   "cell_type": "code",
   "execution_count": 21,
   "id": "fea8065b",
   "metadata": {},
   "outputs": [],
   "source": [
    "# We don't specify anything for activation -> no activation is applied (ie. \"linear\" activation: a(x) = x)\n",
    "# Check: https://www.tensorflow.org/api_docs/python/tf/keras/layers/Dense\n",
    "model = keras.Sequential([\n",
    "     keras.layers.Dense(1, use_bias=True, input_shape=(1,))\n",
    "    ])"
   ]
  },
  {
   "cell_type": "code",
   "execution_count": 22,
   "id": "58312776",
   "metadata": {},
   "outputs": [],
   "source": [
    "# Adam optimizer\n",
    "optimizer = tf.keras.optimizers.Adam(\n",
    "    learning_rate=0.01, beta_1=0.9, beta_2=0.99, epsilon=1e-05, amsgrad=False,\n",
    "    name='Adam')\n",
    "  \n",
    "# Model compiling settings\n",
    "model.compile(loss='mse', optimizer=optimizer, metrics=['mae','mse'])"
   ]
  },
  {
   "cell_type": "code",
   "execution_count": 23,
   "id": "68f75b1e",
   "metadata": {},
   "outputs": [
    {
     "name": "stdout",
     "output_type": "stream",
     "text": [
      "Epoch 0, loss 285.85, val_loss 356.59, mae 14.82, val_mae 16.05, mse 285.85, val_mse 356.59\n",
      "Epoch 100, loss 67.93, val_loss 113.05, mae 5.95, val_mae 7.53, mse 67.93, val_mse 113.05\n",
      "Epoch 200, loss 54.44, val_loss 91.51, mae 5.26, val_mae 6.76, mse 54.44, val_mse 91.51\n",
      "Epoch 300, loss 54.10, val_loss 91.10, mae 5.25, val_mae 6.74, mse 54.10, val_mse 91.10\n",
      "Epoch 400, loss 53.45, val_loss 90.72, mae 5.21, val_mae 6.70, mse 53.45, val_mse 90.72\n",
      "Epoch 500, loss 52.59, val_loss 89.99, mae 5.17, val_mae 6.65, mse 52.59, val_mse 89.99\n",
      "Epoch 600, loss 51.70, val_loss 89.26, mae 5.12, val_mae 6.59, mse 51.70, val_mse 89.26\n",
      "Epoch 700, loss 50.95, val_loss 88.90, mae 5.07, val_mae 6.54, mse 50.95, val_mse 88.90\n",
      "Epoch 800, loss 50.18, val_loss 88.43, mae 5.02, val_mae 6.49, mse 50.18, val_mse 88.43\n",
      "Epoch 900, loss 49.48, val_loss 87.90, mae 4.98, val_mae 6.44, mse 49.48, val_mse 87.90\n",
      "Epoch 1000, loss 48.82, val_loss 87.62, mae 4.93, val_mae 6.40, mse 48.82, val_mse 87.62\n",
      "Epoch 1100, loss 48.18, val_loss 87.32, mae 4.88, val_mae 6.37, mse 48.18, val_mse 87.32\n",
      "Epoch 1200, loss 47.61, val_loss 86.57, mae 4.86, val_mae 6.33, mse 47.61, val_mse 86.57\n",
      "Epoch 1300, loss 47.05, val_loss 86.41, mae 4.81, val_mae 6.30, mse 47.05, val_mse 86.41\n",
      "Epoch 1400, loss 46.58, val_loss 86.56, mae 4.76, val_mae 6.29, mse 46.58, val_mse 86.56\n",
      "Epoch 1500, loss 46.09, val_loss 85.72, mae 4.75, val_mae 6.24, mse 46.09, val_mse 85.72\n",
      "Epoch 1600, loss 45.62, val_loss 85.59, mae 4.71, val_mae 6.22, mse 45.62, val_mse 85.59\n",
      "Epoch 1700, loss 45.20, val_loss 85.44, mae 4.68, val_mae 6.19, mse 45.20, val_mse 85.44\n",
      "Epoch 1800, loss 44.82, val_loss 85.16, mae 4.66, val_mae 6.16, mse 44.82, val_mse 85.16\n"
     ]
    }
   ],
   "source": [
    "# A mechanism that stops training if the validation loss is not improving for more than n_idle_epochs.\n",
    "n_idle_epochs = 100\n",
    "earlyStopping = tf.keras.callbacks.EarlyStopping(monitor='val_loss', patience=n_idle_epochs, min_delta=0.01)\n",
    "# Creating a custom callback to print the log after a certain number of epochs\n",
    "class NEPOCHLogger(tf.keras.callbacks.Callback):\n",
    "    def __init__(self,per_epoch=100):\n",
    "        '''\n",
    "        display: Number of batches to wait before outputting loss\n",
    "        '''\n",
    "        self.seen = 0\n",
    "        self.per_epoch = per_epoch\n",
    "    \n",
    "    def on_epoch_end(self, epoch, logs=None):\n",
    "      if epoch % self.per_epoch == 0:\n",
    "        print('Epoch {}, loss {:.2f}, val_loss {:.2f}, mae {:.2f}, val_mae {:.2f}, mse {:.2f}, val_mse {:.2f}'\\\n",
    "              .format(epoch, logs['loss'], logs['val_loss'],logs['mae'], logs['val_mae'],logs['mse'], logs['val_mse']))\n",
    "        \n",
    "# Call the object\n",
    "log_display = NEPOCHLogger(per_epoch=100)\n",
    "# Training loop\n",
    "n_epochs = 2000\n",
    "history = model.fit(\n",
    "  trainInput, trainTarget, batch_size=256,\n",
    "  epochs=n_epochs, validation_split = 0.1, verbose=0, callbacks=[earlyStopping,log_display])"
   ]
  },
  {
   "cell_type": "code",
   "execution_count": 8,
   "id": "f8fdf65f",
   "metadata": {},
   "outputs": [
    {
     "name": "stdout",
     "output_type": "stream",
     "text": [
      "keys: dict_keys(['loss', 'mae', 'mse', 'val_loss', 'val_mae', 'val_mse'])\n"
     ]
    }
   ],
   "source": [
    "print('keys:', history.history.keys())"
   ]
  },
  {
   "cell_type": "code",
   "execution_count": 9,
   "id": "69e92af7",
   "metadata": {},
   "outputs": [
    {
     "data": {
      "text/plain": [
       "<AxesSubplot:>"
      ]
     },
     "execution_count": 9,
     "metadata": {},
     "output_type": "execute_result"
    },
    {
     "data": {
      "image/png": "[encoded data removed]",
      "text/plain": [
       "<Figure size 432x288 with 1 Axes>"
      ]
     },
     "metadata": {},
     "output_type": "display_data"
    }
   ],
   "source": [
    "import numpy as np\n",
    "import pandas as pd\n",
    "import seaborn as sns\n",
    "# Returning the desired values for plotting and turn to numpy array\n",
    "mae = np.asarray(history.history['mae'])\n",
    "val_mae = np.asarray(history.history['val_mae'])\n",
    "# Creating the data frame\n",
    "num_values = (len(mae))\n",
    "values = np.zeros((num_values,2), dtype=float)\n",
    "values[:,0] = mae\n",
    "values[:,1] = val_mae\n",
    "# Using pandas to frame the data\n",
    "steps = pd.RangeIndex(start=0,stop=num_values)\n",
    "data = pd.DataFrame(values, steps, columns=[\"mae\", \"va-mae\"])\n",
    "# Plotting\n",
    "sns.set(style=\"whitegrid\")\n",
    "sns.lineplot(data=data, palette=\"tab10\", linewidth=2.5)"
   ]
  },
  {
   "cell_type": "code",
   "execution_count": 10,
   "id": "b5825dd0",
   "metadata": {},
   "outputs": [
    {
     "data": {
      "image/png": "[encoded data removed]",
      "text/plain": [
       "<Figure size 432x288 with 1 Axes>"
      ]
     },
     "metadata": {},
     "output_type": "display_data"
    }
   ],
   "source": [
    "predictions = model.predict(testInput).flatten()\n",
    "a = plt.axes(aspect='equal')\n",
    "plt.scatter(predictions, testTarget, edgecolors=(0, 0, 0))\n",
    "plt.xlabel('True Values')\n",
    "plt.ylabel('Predictions')\n",
    "lims = [0, 50]\n",
    "plt.xlim(lims)\n",
    "plt.ylim(lims)\n",
    "_ = plt.plot(lims, lims)"
   ]
  },
  {
   "cell_type": "code",
   "execution_count": null,
   "id": "5de69821",
   "metadata": {},
   "outputs": [],
   "source": []
  }
 ],
 "metadata": {
  "kernelspec": {
   "display_name": "Python 3 (ipykernel)",
   "language": "python",
   "name": "python3"
  },
  "language_info": {
   "codemirror_mode": {
    "name": "ipython",
    "version": 3
   },
   "file_extension": ".py",
   "mimetype": "text/x-python",
   "name": "python",
   "nbconvert_exporter": "python",
   "pygments_lexer": "ipython3",
   "version": "3.9.12"
  }
 },
 "nbformat": 4,
 "nbformat_minor": 5
}
